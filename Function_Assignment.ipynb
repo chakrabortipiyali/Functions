{
  "nbformat": 4,
  "nbformat_minor": 0,
  "metadata": {
    "colab": {
      "provenance": []
    },
    "kernelspec": {
      "name": "python3",
      "display_name": "Python 3"
    },
    "language_info": {
      "name": "python"
    }
  },
  "cells": [
    {
      "cell_type": "code",
      "execution_count": null,
      "metadata": {
        "id": "lj8pgX7g322W"
      },
      "outputs": [],
      "source": []
    },
    {
      "cell_type": "code",
      "source": [],
      "metadata": {
        "id": "4Nds542SM3sN"
      },
      "execution_count": null,
      "outputs": []
    },
    {
      "cell_type": "markdown",
      "source": [],
      "metadata": {
        "id": "J3FrXRlI3-L9"
      }
    },
    {
      "cell_type": "markdown",
      "source": [
        "#1. What is the difference between a function and a method in Python?\n",
        "Function is a block of code that performs a specific question and can be called again and again whenever required in the code.\n",
        "A Method is a function which is associated with an object or class"
      ],
      "metadata": {
        "id": "3RPB7Pkz4HFC"
      }
    },
    {
      "cell_type": "markdown",
      "source": [
        "#2.  Explain the concept of function arguments and parameters in Python.\n",
        "Arguments are the actual values that you pass to the function when you call it. These values replace the parameters defined in the function.\n",
        "\n",
        "Parameters are variables defined in a function declaration. This act as placeholders for the values (arguments) that will be passed to the function.\n",
        "Example :\n",
        "def product(a,b): # a,b are tyhe parameters of the function product\n",
        "  return a*b\n",
        "product(2,3)      # 2,3 are the arguments which are passed to the the   \n",
        "                    function named product\n",
        "\n"
      ],
      "metadata": {
        "id": "PVE7kuO-6HME"
      }
    },
    {
      "cell_type": "code",
      "source": [],
      "metadata": {
        "id": "zmGKAtrHJS8D"
      },
      "execution_count": null,
      "outputs": []
    },
    {
      "cell_type": "markdown",
      "source": [
        "#3. What are the different ways to define and call a function in Python?\n",
        "i) Using def keyword and print statement\n",
        "   Example\n",
        "        def date_assignment(): # defining the function\n",
        "          print (\" Today is the last day of assignment submission\")\n",
        "        date_assignment()      # calling the function\n",
        "ii) Using def and return\n",
        "  Example\n",
        "      def square(a): # defining the function\n",
        "        return a**2\n",
        "      square(5)      # calling the function\n",
        "iii) Using def and yield\n",
        "      Example\n",
        "      def square_number(n):    #defining the function\n",
        "        for i in range(n):\n",
        "          yield i**2           # calling the function\n",
        "iv)  Using lambda\n",
        "      Example\n",
        "      square = lambda x :x**2 # defining the function\n",
        "      square(5)               # calling the function\n",
        "v) Using map to apply the function to apply to each item in the iterable.\n",
        "     Example\n",
        "     numbers = [1, 2, 3, 4, 5]\n",
        "     squared_numbers = list(map(lambda x: x**2, numbers)) # defining the\n",
        "                       function\n",
        "     squared_numbers()                      # calling the function                    \n",
        "vi) Using reduce to apply cumulatively to the items of the iterable. It takes two arguments and retuens a single value.\n",
        "     Example\n",
        "     numbers = [1, 2, 3, 4, 5]\n",
        "     total_sum = reduce(lambda x, y: x + y, numbers)  # defining the\n",
        "                 function\n",
        "     total_sum()                              # calling the function\n",
        "\n",
        "\n",
        "\n",
        "\n",
        "\n",
        "          "
      ],
      "metadata": {
        "id": "WFL8So9k8y1C"
      }
    },
    {
      "cell_type": "markdown",
      "source": [
        "#4. What is the purpose of the `return` statement in a Python function?\n",
        "The return statement in Python ends a function and sends back a value to the caller. It's used to return the result of a function's operations.\n",
        "Example :\n",
        "def sum(a,b,c):\n",
        "  return a+b+c    # ends the function sum and returns the value by adding\n",
        "                    three numbers\n",
        "sum(3,4,5)       # returns 12 i.e the summation of 3 , 4 and 5"
      ],
      "metadata": {
        "id": "bLbUBfQmLWOa"
      }
    },
    {
      "cell_type": "markdown",
      "source": [
        "#5. What are iterators in Python and how do they differ from iterables?\n",
        "Iterator is an object representing a stream of data and that returns the elements one by one.\n",
        "Iterable is any object or sequential structure or data structure that is cabke of returning its members one at a time.Iterables are list , tuples , string , dictionar\n",
        "Example\n",
        "list1 = [100, 200, 300] # list is an iterable object which allows its memners to be iterated\n",
        "numbers = iter(list1)   # iter()is an iterator which prepares the iterable  object for iteration\n",
        "next(numbers)           # returns the element one by one after iteration\n"
      ],
      "metadata": {
        "id": "gMpKa8e_NwZ8"
      }
    },
    {
      "cell_type": "markdown",
      "source": [
        "#6.  Explain the concept of generators in Python and how they are defined.\n",
        "Generator  functions allow  to iterate over a potentially large sequence of data using less memory space and less execution time compared to Regular functions.\n",
        " The main difference between a regular function and a generator function is that generator functions uses the yield keyword to produce a series of values one at a time, rather than returning a single result like regular functions\n",
        " Example :\n",
        " Regular function --\n",
        " def square(n):\n",
        "  square_number = []         # Memory space created to store the values\n",
        "  for i in range (n):\n",
        "    square_number.append(i**2)\n",
        "  return square_number   # returns all the values at a time after iteration\n",
        "  square(10)\n",
        "\n",
        "  Generator function --\n",
        "  def square_number(n):\n",
        "    for i in range(n):\n",
        "      yield i**2         # Memory space declaration not needed, generator object is created\n",
        "   a= square_number(10)\n",
        "   next(a)               # returns values one after one after iteration\n",
        "  "
      ],
      "metadata": {
        "id": "E_pV-uJnXq3r"
      }
    },
    {
      "cell_type": "markdown",
      "source": [
        "#7. What are the advantages of using generators over regular functions?\n",
        "generator function uses less memory size and less execution time compared to regular functions.\n",
        "Example :\n",
        " Regular function --\n",
        " def square(n):\n",
        "  square_number = []         # Memory space created to store the values\n",
        "  for i in range (n):\n",
        "    square_number.append(i**2)\n",
        "  return square_number   # returns all the values at a time after iteration\n",
        "  square(10)\n",
        "\n",
        "  Generator function --\n",
        "  def square_number(n):\n",
        "    for i in range(n):\n",
        "      yield i**2         # Memory space declaration not needed, generator object is created\n",
        "   a= square_number(10)\n",
        "   next(a)               # returns values one after one after iteration\n",
        "  "
      ],
      "metadata": {
        "id": "SR75dB46dsaT"
      }
    },
    {
      "cell_type": "markdown",
      "source": [
        "#8.  What is a lambda function in Python and when is it typically used?\n",
        "A lambda function in Python is a concise way to create anonymous functions.\n",
        "Unlike regular functions defined using the def keyword and return statement , lambda functions are often used for short-term\n",
        "operations and are defined in a single line.\n",
        "Example :\n",
        "Regular function to find the square of any given number\n",
        "def square(x):\n",
        "  return x**2\n",
        "square(4)       # Returns 16\n",
        "lambda function to find the square of any given number\n",
        "sq = lambda x:x**2  # single line code unlike regular function\n",
        "sq(4)           # Returns 16         \n",
        "   \n"
      ],
      "metadata": {
        "id": "C9q0Rro7eYuD"
      }
    },
    {
      "cell_type": "markdown",
      "source": [
        "#9.  Explain the purpose and usage of the `map()` function in Python.\n",
        "The map() function in Python is a built-in function that applies a given function to all the items in an iterable\n",
        "and returns an iterable map object.\n",
        "Example\n",
        "     numbers = [1, 2, 3, 4, 5]\n",
        "     squared_numbers = list(map(lambda x: x**2, numbers))      squared_numbers()  # numbers is a list here which is an iterable object. map returns the square of every element of the list and returns the result                                        "
      ],
      "metadata": {
        "id": "rbMrdUDy7qOx"
      }
    },
    {
      "cell_type": "markdown",
      "source": [
        "#10. What is the difference between `map()`, `reduce()`, and `filter()` functions in Python?\n",
        "The map() function in Python is a built-in function that applies a given function to all the items in an iterable and returns an iterable map object.\n",
        "Example\n",
        "     numbers = [1, 2, 3, 4, 5]\n",
        "     squared_numbers = list(map(lambda x: x**2, numbers))\n",
        "     squared_numbers()                                        \n",
        "reduce() is used to  reduce a list of items to a single value.\n",
        " Example\n",
        "     from functools import reduce\n",
        "     numbers = [1, 2, 3, 4, 5]\n",
        "     total_sum = reduce(lambda x, y: x + y, numbers)  \n",
        "     total_sum()\n",
        "filter() function is used to pick  only the items that meet specific criteria from a list.\n",
        "Example\n",
        "      l1 = [-1, -2, 3, 4, 5]\n",
        "      list(filter(lambda x: x < 0, l1))  # returns all the negative elements from the list                           "
      ],
      "metadata": {
        "id": "HgKvKXT3AKFR"
      }
    },
    {
      "cell_type": "markdown",
      "source": [],
      "metadata": {
        "id": "mkmYwGTEHa_S"
      }
    },
    {
      "cell_type": "markdown",
      "source": [
        " #11. Using pen & Paper write the internal mechanism for sum operation using  reduce function on this given list:[47,11,42,13];\n",
        " https://docs.google.com/document/d/18Z2gFZMVHeZP4iEnQh2U-vxLwmFS1HLaDpl2psfDfKs/edit?tab=t.0"
      ],
      "metadata": {
        "id": "gUh4GSR4HdCy"
      }
    },
    {
      "cell_type": "code",
      "source": [
        "#1.  Write a Python function that takes a list of numbers as input and returns the sum of all even numbers in the list\n",
        "def list_num(a):\n",
        "   number = []\n",
        "   sum = 0\n",
        "   for i in a:\n",
        "    if i%2 == 0:\n",
        "      number.append(i)\n",
        "   for j in number:\n",
        "      sum = j + sum\n",
        "   return sum\n",
        "list_num([5,10,33,34,23,42])  # Returns 86"
      ],
      "metadata": {
        "id": "rpYNCRXN4Dfb"
      },
      "execution_count": null,
      "outputs": []
    },
    {
      "cell_type": "code",
      "source": [
        "#2.Create a Python function that accepts a string and returns the reverse of that string\n",
        "def string(a):\n",
        "  reverse_string = \" \"\n",
        "  i= len(a)\n",
        "  while i>0:\n",
        "    reverse_string = reverse_string + a[i-1]\n",
        "    i = i -1\n",
        "  return reverse_string\n",
        "string(\"piyali\")   # returns  'ilayip'"
      ],
      "metadata": {
        "id": "8dBePOEDPEyE"
      },
      "execution_count": null,
      "outputs": []
    },
    {
      "cell_type": "code",
      "source": [
        "#3. Implement a Python function that takes a list of integers and returns a new list containing the squares of\n",
        "#each number.\n",
        "def int_square(integers):\n",
        "  sq_number=[]\n",
        "  for i in integers:\n",
        "    sq_number.append(i**2)\n",
        "  return sq_number\n",
        "int_square([4,5,6,7])     # Returns[16,25,36,49]\n"
      ],
      "metadata": {
        "id": "30fQHGF-aZkk"
      },
      "execution_count": null,
      "outputs": []
    },
    {
      "cell_type": "code",
      "source": [
        "#4.  Write a Python function that checks if a given number is prime or not from 1 to 200.\n"
      ],
      "metadata": {
        "id": "og2yzEigIo5z"
      },
      "execution_count": null,
      "outputs": []
    },
    {
      "cell_type": "code",
      "source": [
        "#5.  Create an iterator class in Python that generates the Fibonacci sequence up to a specified number of\n",
        "# terms.\n",
        "def fib(n):\n",
        "  a = 0\n",
        "  b = 1\n",
        "  for i in range (n):\n",
        "    yield a,b = b , a + b\n",
        "f = fib(10)\n",
        "next(f)"
      ],
      "metadata": {
        "id": "FS12Id3zM57X"
      },
      "execution_count": null,
      "outputs": []
    },
    {
      "cell_type": "code",
      "source": [
        "#6. Write a generator function in Python that yields the powers of 2 up to a given exponent.\n",
        "def expo(n):\n",
        "  for i in range(1 ,n):\n",
        "    yield 2**i\n",
        "e= fib(10)\n",
        "next(e)\n"
      ],
      "metadata": {
        "id": "sPq8jQVyTQ8G"
      },
      "execution_count": null,
      "outputs": []
    },
    {
      "cell_type": "code",
      "source": [
        " #7. Implement a generator function that reads a file line by line and yields each line as a string."
      ],
      "metadata": {
        "id": "zT-94I1rk_xp"
      },
      "execution_count": null,
      "outputs": []
    },
    {
      "cell_type": "code",
      "source": [
        "#8.Use a lambda function in Python to sort a list of tuples based on the second element of each tuple."
      ],
      "metadata": {
        "id": "R7tH9OzcvXog"
      },
      "execution_count": null,
      "outputs": []
    },
    {
      "cell_type": "code",
      "source": [
        "#9. Write a Python program that uses `map()` to convert a list of temperatures from Celsius to Fahrenheit.\n",
        "numbers = [32,42,52,62]\n",
        "temp_farenhite= list(map(lambda x:9*x/5+32, numbers))\n",
        "print(\"The temperature in Farenhite scale\",temp_farenhite)"
      ],
      "metadata": {
        "id": "z-b1GnyNDz-I"
      },
      "execution_count": null,
      "outputs": []
    },
    {
      "cell_type": "code",
      "source": [
        "#10. Create a Python program that uses `filter()` to remove all the vowels from a given string.\n",
        "word = \"dictionary\"\n",
        "p=list(filter(lambda x:x==(a,e,i,o,u),word))\n",
        "print(p)"
      ],
      "metadata": {
        "id": "Ine1HlBqIF2l"
      },
      "execution_count": null,
      "outputs": []
    }
  ]
}